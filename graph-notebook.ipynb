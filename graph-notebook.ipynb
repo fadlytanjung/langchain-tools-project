{
 "cells": [
  {
   "cell_type": "code",
   "execution_count": 109,
   "id": "b73a49d4",
   "metadata": {},
   "outputs": [],
   "source": [
    "import os\n",
    "import logging\n",
    "from typing import TypedDict, Optional, List\n",
    "from typing_extensions import Literal\n",
    "from dotenv import load_dotenv\n",
    "\n",
    "load_dotenv()\n",
    "\n",
    "logging.basicConfig(level=logging.INFO)\n",
    "logger = logging.getLogger(__name__)\n"
   ]
  },
  {
   "cell_type": "code",
   "execution_count": 110,
   "id": "c7033fc5",
   "metadata": {},
   "outputs": [
    {
     "name": "stdout",
     "output_type": "stream",
     "text": [
      "✅ API keys validated\n"
     ]
    }
   ],
   "source": [
    "from langchain_core.messages import BaseMessage, HumanMessage, SystemMessage\n",
    "from langchain_openai import ChatOpenAI\n",
    "from langgraph.graph import StateGraph, START, END\n",
    "\n",
    "OPENAI_API_KEY = os.getenv(\"OPENAI_API_KEY\")\n",
    "OPENWEATHER_API_KEY = os.getenv(\"OPENWEATHER_API_KEY\")\n",
    "OPENWEATHER_BASE_URL = os.getenv(\"OPENWEATHER_BASE_URL\")\n",
    "\n",
    "\n",
    "if not OPENAI_API_KEY:\n",
    "    raise ValueError(\"❌ OPENAI_API_KEY is required! Please add it to your .env file\")\n",
    "\n",
    "if not OPENWEATHER_API_KEY:\n",
    "    logger.warning(\"⚠️  OPENWEATHER_API_KEY not found - weather tool will use mock data\")\n",
    "\n",
    "if not OPENWEATHER_BASE_URL:\n",
    "    logger.warning(\n",
    "        \"⚠️  OPENWEATHER_BASE_URL not found\"\n",
    "    )\n",
    "\n",
    "print(\"✅ API keys validated\")\n"
   ]
  },
  {
   "cell_type": "code",
   "execution_count": 111,
   "id": "b7b29e95",
   "metadata": {},
   "outputs": [
    {
     "name": "stderr",
     "output_type": "stream",
     "text": [
      "INFO:httpx:HTTP Request: POST https://api.openai.com/v1/chat/completions \"HTTP/1.1 200 OK\"\n"
     ]
    },
    {
     "name": "stdout",
     "output_type": "stream",
     "text": [
      "🤖 LLM Test: Hello! Yes, I'm here and ready to help. How can I assist you today?\n",
      "✅ ChatOpenAI instance created successfully\n"
     ]
    }
   ],
   "source": [
    "if OPENAI_API_KEY:\n",
    "    os.environ[\"OPENAI_API_KEY\"] = OPENAI_API_KEY\n",
    "\n",
    "llm = ChatOpenAI(\n",
    "    model=\"gpt-4o-mini\",\n",
    "    temperature=0\n",
    ")\n",
    "\n",
    "test_response = llm.invoke(\"Hello! Can you confirm you're working?\")\n",
    "print(f\"🤖 LLM Test: {test_response.content}\")\n",
    "\n",
    "print(\"✅ ChatOpenAI instance created successfully\")\n"
   ]
  },
  {
   "cell_type": "code",
   "execution_count": 112,
   "id": "4e93522f",
   "metadata": {},
   "outputs": [],
   "source": [
    "class State(TypedDict, total=False):\n",
    "    messages: List[BaseMessage]\n",
    "    tool_used: Optional[Literal[\"weather\", \"math\", \"llm\"]]\n",
    "    result: Optional[str]"
   ]
  },
  {
   "cell_type": "code",
   "execution_count": 113,
   "id": "09b8a05e",
   "metadata": {},
   "outputs": [],
   "source": [
    "from pydantic import BaseModel, Field\n",
    "from typing_extensions import Literal\n",
    "\n",
    "class Route(BaseModel):\n",
    "    step: Literal[\"weather\", \"math\", \"llm\"] = Field(\n",
    "        \"llm\", description=\"The next step in the routing process\"\n",
    "    )\n",
    "\n",
    "router = llm.with_structured_output(Route)\n"
   ]
  },
  {
   "cell_type": "code",
   "execution_count": 114,
   "id": "085e908c",
   "metadata": {},
   "outputs": [],
   "source": [
    "def llm_call_router(state: State) -> State:\n",
    "    \"\"\"Route the input to the appropriate node\"\"\"\n",
    "\n",
    "    logger.info(\"🔀 invoke routing\")\n",
    "\n",
    "    messages = state.get(\"messages\", [])\n",
    "    if not messages:\n",
    "        logger.error(\"❌ No messages found in state\")\n",
    "        state[\"tool_used\"] = \"llm\"\n",
    "        return state\n",
    "    \n",
    "    human_message = next((msg for msg in reversed(messages) if isinstance(msg, HumanMessage)), None)\n",
    "    if human_message is None:\n",
    "        logger.error(\"❌ No HumanMessage found in messages\")\n",
    "        state[\"tool_used\"] = \"llm\"\n",
    "        return state\n",
    "\n",
    "    logger.info(f\"🔀 Human message: {human_message}\")\n",
    "\n",
    "    decision = router.invoke(\n",
    "        [\n",
    "            SystemMessage(\n",
    "                content=\"Route the query to weather, math, or llm based on the user's request. Respond with only one word: 'weather', 'math', or 'llm'.\"\n",
    "            ),\n",
    "            human_message,\n",
    "        ]\n",
    "    )\n",
    "    \n",
    "\n",
    "    logger.info(f\"🔀 Decision: {decision}\")\n",
    "\n",
    "    if decision.step == \"weather\": # type: ignore\n",
    "        state[\"tool_used\"] = \"weather\"\n",
    "    elif decision.step == \"math\": # type: ignore\n",
    "        state[\"tool_used\"] = \"math\"\n",
    "    else:\n",
    "        state[\"tool_used\"] = \"llm\"\n",
    "\n",
    "    return state"
   ]
  },
  {
   "cell_type": "code",
   "execution_count": 115,
   "id": "68ffa04a",
   "metadata": {},
   "outputs": [],
   "source": [
    "from langchain.tools import tool\n",
    "import httpx\n",
    "\n",
    "@tool\n",
    "def weather_tool(location: str) -> str:\n",
    "    \"\"\"Get weather information for a location.\"\"\"\n",
    "    if OPENWEATHER_API_KEY and OPENWEATHER_BASE_URL:\n",
    "        logger.info(f\"🌤️  Getting weather for {location}\")\n",
    "\n",
    "        with httpx.Client() as client:\n",
    "            params = {\n",
    "                \"q\": location,\n",
    "                \"appid\": OPENWEATHER_API_KEY,\n",
    "                \"units\": \"metric\",\n",
    "            }\n",
    "\n",
    "            logger.debug(f\"�� Making API request to OpenWeather for {location}\")\n",
    "            response = client.get(OPENWEATHER_BASE_URL, params=params)\n",
    "            response.raise_for_status()\n",
    "            data = response.json()\n",
    "\n",
    "            temp = data[\"main\"][\"temp\"]\n",
    "            description = data[\"weather\"][0][\"description\"]\n",
    "            country = data[\"sys\"][\"country\"]\n",
    "\n",
    "            result = f\"It's {description} and {temp}°C in {location}, {country}.\"\n",
    "            return result\n",
    "    else:\n",
    "        logger.info(f\"🌤️  Mock weather data for {location}\")\n",
    "        return f\"Mock weather: It's sunny and 22°C in {location}\"\n"
   ]
  },
  {
   "cell_type": "code",
   "execution_count": 116,
   "id": "ef04c56d",
   "metadata": {},
   "outputs": [],
   "source": [
    "import re\n",
    "@tool\n",
    "def math_tool(expression: str) -> str:\n",
    "    \"\"\"Calculate mathematical expressions safely.\"\"\"\n",
    "    try:\n",
    "        cleaned_expr = re.sub(r\"[^0-9+\\-*/%. ()]\", \"\", expression)\n",
    "        if not cleaned_expr:\n",
    "            error_msg = (\n",
    "                f\"Expression '{expression}' contains no valid mathematical operations\"\n",
    "            )\n",
    "            logger.error(f\"❌ Math validation error: {error_msg}\")\n",
    "            return f\"Error: {error_msg}\"\n",
    "\n",
    "        result = eval(cleaned_expr)\n",
    "        result_str = str(result)\n",
    "\n",
    "        return result_str\n",
    "    except Exception as e:\n",
    "        logger.error(f\"❌ Math error: {e}\")\n",
    "        return f\"Error: {str(e)}\"\n"
   ]
  },
  {
   "cell_type": "code",
   "execution_count": 118,
   "id": "2efdce8e",
   "metadata": {},
   "outputs": [],
   "source": [
    "def agent_llm(state: State) -> State:\n",
    "    \"\"\"Handle general LLM queries without tools.\"\"\"\n",
    "    logger.info(\"🧠 Processing LLM query (no tools)\")\n",
    "    \n",
    "    messages = state.get(\"messages\", [])\n",
    "    if not messages:\n",
    "        logger.error(\"❌ No messages found in state\")\n",
    "        state[\"result\"] = \"No messages to process\"\n",
    "        return state\n",
    "    \n",
    "    result = llm.invoke(messages)\n",
    "    \n",
    "    content = result.content\n",
    "    if isinstance(content, list):\n",
    "        content = str(content)\n",
    "    \n",
    "    state[\"result\"] = content\n",
    "\n",
    "    return state"
   ]
  },
  {
   "cell_type": "code",
   "execution_count": 161,
   "id": "c95dc1d2",
   "metadata": {},
   "outputs": [
    {
     "name": "stderr",
     "output_type": "stream",
     "text": [
      "INFO:httpx:HTTP Request: POST https://api.openai.com/v1/chat/completions \"HTTP/1.1 200 OK\"\n"
     ]
    },
    {
     "data": {
      "text/plain": [
       "[{'name': 'math_tool',\n",
       "  'args': {'expression': '7 * 3'},\n",
       "  'id': 'call_RurflHU8yMi5RWcVaUKgo4sg',\n",
       "  'type': 'tool_call'}]"
      ]
     },
     "execution_count": 161,
     "metadata": {},
     "output_type": "execute_result"
    }
   ],
   "source": [
    "from langchain_core.messages import AIMessage\n",
    "\n",
    "\n",
    "llm_weather_tool = llm.bind_tools([weather_tool])\n",
    "llm_math_tool = llm.bind_tools([math_tool])\n",
    "\n",
    "math_result = llm_math_tool.invoke([HumanMessage(content=\"How's is 7 multiply 3?\")])\n",
    "\n",
    "\n",
    "if isinstance(math_result, AIMessage) and hasattr(math_result, \"tool_calls\"):\n",
    "    tool_calls = math_result.tool_calls\n",
    "else:\n",
    "    tool_calls = None \n",
    "\n",
    "tool_calls"
   ]
  },
  {
   "cell_type": "code",
   "execution_count": 162,
   "id": "59108fab",
   "metadata": {},
   "outputs": [],
   "source": [
    "llm_with_tools = llm.bind_tools([weather_tool, math_tool])"
   ]
  },
  {
   "cell_type": "code",
   "execution_count": 163,
   "id": "f78f9531",
   "metadata": {},
   "outputs": [],
   "source": [
    "def route_decision(state: State) -> str:\n",
    "    \"\"\"Determine which path to take based on router decision.\"\"\"\n",
    "    logger.info(\"🔀 Making routing decision\")\n",
    "    \n",
    "    tool_used = state.get(\"tool_used\", \"llm\")\n",
    "    result = tool_used or \"llm\"\n",
    "    \n",
    "    logger.info(f\"🎯 Route decision: {result}\")\n",
    "    return result"
   ]
  },
  {
   "cell_type": "code",
   "execution_count": 166,
   "id": "89d5d80b",
   "metadata": {},
   "outputs": [],
   "source": [
    "from langchain_core.messages import AIMessage\n",
    "\n",
    "\n",
    "def agent_llm_with_tools(state: State) -> State:\n",
    "    \"\"\"Handle tool-based queries using LLM tool binding for parameter extraction.\"\"\"\n",
    "    messages = state.get(\"messages\", [])\n",
    "\n",
    "    if not messages:\n",
    "        logger.error(\"❌ No messages found in state\")\n",
    "        state[\"result\"] = \"No messages to process\"\n",
    "        return state\n",
    "\n",
    "    llm_with_tools = {\n",
    "        \"weather\": llm_weather_tool,\n",
    "        \"math\": llm_math_tool,\n",
    "    }\n",
    "\n",
    "    try:\n",
    "        tool_used = state.get(\"tool_used\") or \"weather\"\n",
    "        result = llm_with_tools[tool_used].invoke(messages)\n",
    "        logger.info(f\"🔍 LLM tool call result: {result}\")\n",
    "\n",
    "        if (\n",
    "            isinstance(result, AIMessage)\n",
    "            and hasattr(result, \"tool_calls\")\n",
    "            and result.tool_calls\n",
    "        ):\n",
    "            tool_call = result.tool_calls[0]\n",
    "            tool_name = tool_call[\"name\"]\n",
    "            tool_args = tool_call[\"args\"]\n",
    "\n",
    "            logger.info(f\"🔧 Tool: {tool_name}, Args: {tool_args}\")\n",
    "\n",
    "            tool_registry = {\"weather_tool\": weather_tool, \"math_tool\": math_tool}\n",
    "\n",
    "            if tool_name in tool_registry:\n",
    "                state[\"result\"] = tool_registry[tool_name].invoke(tool_args)\n",
    "            else:\n",
    "                state[\"result\"] = f\"Unknown tool: {tool_name}\"\n",
    "        else:\n",
    "            state[\"result\"] = \"No tool calls detected\"\n",
    "\n",
    "        logger.info(f\"✅ Tool result: {state['result']}\")\n",
    "\n",
    "    except Exception as e:\n",
    "        error_msg = f\"Error processing tool query: {str(e)}\"\n",
    "        logger.error(f\"❌ Tool processing error: {error_msg}\")\n",
    "        state[\"result\"] = error_msg\n",
    "\n",
    "    return state\n"
   ]
  },
  {
   "cell_type": "code",
   "execution_count": 167,
   "id": "c819ba54",
   "metadata": {},
   "outputs": [
    {
     "data": {
      "image/png": "[encoded data removed]",
      "text/plain": [
       "<IPython.core.display.Image object>"
      ]
     },
     "metadata": {},
     "output_type": "display_data"
    }
   ],
   "source": [
    "from IPython.core.display import Image\n",
    "\n",
    "graph_builder = StateGraph(State)\n",
    "\n",
    "graph_builder.add_node(\"llm\", agent_llm)\n",
    "graph_builder.add_node(\"tools\", agent_llm_with_tools)\n",
    "graph_builder.add_node(\"router\", llm_call_router)\n",
    "\n",
    "\n",
    "graph_builder.add_edge(START, \"router\")\n",
    "graph_builder.add_conditional_edges(\n",
    "    \"router\",\n",
    "    route_decision,\n",
    "    {\n",
    "        \"math\": \"tools\",\n",
    "        \"weather\": \"tools\",\n",
    "        \"llm\": \"llm\",\n",
    "    },\n",
    ")\n",
    "\n",
    "graph_builder.add_edge(\"llm\", END)\n",
    "graph_builder.add_edge(\"tools\", END)\n",
    "\n",
    "graph = graph_builder.compile()\n",
    "display(Image(graph.get_graph().draw_mermaid_png()))"
   ]
  },
  {
   "cell_type": "code",
   "execution_count": 168,
   "id": "cb1a326a",
   "metadata": {},
   "outputs": [
    {
     "name": "stderr",
     "output_type": "stream",
     "text": [
      "INFO:__main__:🔀 invoke routing\n",
      "INFO:__main__:🔀 Human message: content=\"What's the weather in Jakarta?\" additional_kwargs={} response_metadata={}\n",
      "INFO:httpx:HTTP Request: POST https://api.openai.com/v1/chat/completions \"HTTP/1.1 200 OK\"\n",
      "INFO:__main__:🔀 Decision: step='weather'\n",
      "INFO:__main__:🔀 Making routing decision\n",
      "INFO:__main__:🎯 Route decision: weather\n",
      "INFO:httpx:HTTP Request: POST https://api.openai.com/v1/chat/completions \"HTTP/1.1 200 OK\"\n",
      "INFO:__main__:🔍 LLM tool call result: content='' additional_kwargs={'tool_calls': [{'id': 'call_ZoSjWKwihMBZtyBX9VHIMNBF', 'function': {'arguments': '{\"location\":\"Jakarta\"}', 'name': 'weather_tool'}, 'type': 'function'}], 'refusal': None} response_metadata={'token_usage': {'completion_tokens': 15, 'prompt_tokens': 50, 'total_tokens': 65, 'completion_tokens_details': {'accepted_prediction_tokens': 0, 'audio_tokens': 0, 'reasoning_tokens': 0, 'rejected_prediction_tokens': 0}, 'prompt_tokens_details': {'audio_tokens': 0, 'cached_tokens': 0}}, 'model_name': 'gpt-4o-mini-2024-07-18', 'system_fingerprint': 'fp_34a54ae93c', 'finish_reason': 'tool_calls', 'logprobs': None} id='run--711eab09-69c2-45f7-a392-dff61f9f59bb-0' tool_calls=[{'name': 'weather_tool', 'args': {'location': 'Jakarta'}, 'id': 'call_ZoSjWKwihMBZtyBX9VHIMNBF', 'type': 'tool_call'}] usage_metadata={'input_tokens': 50, 'output_tokens': 15, 'total_tokens': 65, 'input_token_details': {'audio': 0, 'cache_read': 0}, 'output_token_details': {'audio': 0, 'reasoning': 0}}\n",
      "INFO:__main__:🔧 Tool: weather_tool, Args: {'location': 'Jakarta'}\n",
      "INFO:__main__:🌤️  Getting weather for Jakarta\n",
      "INFO:httpx:HTTP Request: GET https://api.openweathermap.org/data/2.5/weather?q=Jakarta&appid=64f80541d67322d4c34440e183f206ed&units=metric \"HTTP/1.1 200 OK\"\n",
      "INFO:__main__:✅ Tool result: It's moderate rain and 33.13°C in Jakarta, ID.\n"
     ]
    },
    {
     "data": {
      "text/plain": [
       "{'messages': [HumanMessage(content=\"What's the weather in Jakarta?\", additional_kwargs={}, response_metadata={})],\n",
       " 'tool_used': 'weather',\n",
       " 'result': \"It's moderate rain and 33.13°C in Jakarta, ID.\"}"
      ]
     },
     "execution_count": 168,
     "metadata": {},
     "output_type": "execute_result"
    }
   ],
   "source": [
    "result = graph.invoke({\"messages\": [HumanMessage(content=\"What's the weather in Jakarta?\")]})\n",
    "\n",
    "result"
   ]
  },
  {
   "cell_type": "code",
   "execution_count": 169,
   "id": "2f53bd04",
   "metadata": {},
   "outputs": [
    {
     "name": "stderr",
     "output_type": "stream",
     "text": [
      "INFO:__main__:🔀 invoke routing\n",
      "INFO:__main__:🔀 Human message: content=\"How's is 100 / 10?\" additional_kwargs={} response_metadata={}\n",
      "INFO:httpx:HTTP Request: POST https://api.openai.com/v1/chat/completions \"HTTP/1.1 200 OK\"\n",
      "INFO:__main__:🔀 Decision: step='math'\n",
      "INFO:__main__:🔀 Making routing decision\n",
      "INFO:__main__:🎯 Route decision: math\n",
      "INFO:httpx:HTTP Request: POST https://api.openai.com/v1/chat/completions \"HTTP/1.1 200 OK\"\n",
      "INFO:__main__:🔍 LLM tool call result: content='' additional_kwargs={'tool_calls': [{'id': 'call_Et0ezzksmUYQf2I24dMuJMlQ', 'function': {'arguments': '{\"expression\":\"100 / 10\"}', 'name': 'math_tool'}, 'type': 'function'}], 'refusal': None} response_metadata={'token_usage': {'completion_tokens': 17, 'prompt_tokens': 51, 'total_tokens': 68, 'completion_tokens_details': {'accepted_prediction_tokens': 0, 'audio_tokens': 0, 'reasoning_tokens': 0, 'rejected_prediction_tokens': 0}, 'prompt_tokens_details': {'audio_tokens': 0, 'cached_tokens': 0}}, 'model_name': 'gpt-4o-mini-2024-07-18', 'system_fingerprint': None, 'finish_reason': 'tool_calls', 'logprobs': None} id='run--2f5203ce-89bc-480d-ae7d-e1ee8725a9e8-0' tool_calls=[{'name': 'math_tool', 'args': {'expression': '100 / 10'}, 'id': 'call_Et0ezzksmUYQf2I24dMuJMlQ', 'type': 'tool_call'}] usage_metadata={'input_tokens': 51, 'output_tokens': 17, 'total_tokens': 68, 'input_token_details': {'audio': 0, 'cache_read': 0}, 'output_token_details': {'audio': 0, 'reasoning': 0}}\n",
      "INFO:__main__:🔧 Tool: math_tool, Args: {'expression': '100 / 10'}\n",
      "INFO:__main__:✅ Tool result: 10.0\n"
     ]
    },
    {
     "data": {
      "text/plain": [
       "{'messages': [HumanMessage(content=\"How's is 100 / 10?\", additional_kwargs={}, response_metadata={})],\n",
       " 'tool_used': 'math',\n",
       " 'result': '10.0'}"
      ]
     },
     "execution_count": 169,
     "metadata": {},
     "output_type": "execute_result"
    }
   ],
   "source": [
    "result = graph.invoke(\n",
    "    {\"messages\": [HumanMessage(content=\"How's is 100 / 10?\")]}\n",
    ")\n",
    "\n",
    "result"
   ]
  },
  {
   "cell_type": "code",
   "execution_count": 170,
   "id": "0c00066c",
   "metadata": {},
   "outputs": [
    {
     "name": "stderr",
     "output_type": "stream",
     "text": [
      "INFO:__main__:🔀 invoke routing\n",
      "INFO:__main__:🔀 Human message: content='Write simple poem about cats' additional_kwargs={} response_metadata={}\n",
      "INFO:httpx:HTTP Request: POST https://api.openai.com/v1/chat/completions \"HTTP/1.1 200 OK\"\n",
      "INFO:__main__:🔀 Decision: step='llm'\n",
      "INFO:__main__:🔀 Making routing decision\n",
      "INFO:__main__:🎯 Route decision: llm\n",
      "INFO:__main__:🧠 Processing LLM query (no tools)\n",
      "INFO:httpx:HTTP Request: POST https://api.openai.com/v1/chat/completions \"HTTP/1.1 200 OK\"\n"
     ]
    },
    {
     "data": {
      "text/plain": [
       "{'messages': [HumanMessage(content='Write simple poem about cats', additional_kwargs={}, response_metadata={})],\n",
       " 'tool_used': 'llm',\n",
       " 'result': 'In sunlit spots, they stretch and play,  \\nWith gentle purrs, they greet the day.  \\nWhiskers twitch and tails held high,  \\nChasing shadows as they fly.  \\n\\nSoft as clouds, with eyes so bright,  \\nThey curl up close, a cozy sight.  \\nMischief makers, sleek and sly,  \\nIn every heart, they leave a sigh.  \\n\\nWith graceful leaps and playful bounds,  \\nIn every home, their love abounds.  \\nOh, little cats, so full of grace,  \\nYou bring us joy, a warm embrace.  '}"
      ]
     },
     "execution_count": 170,
     "metadata": {},
     "output_type": "execute_result"
    }
   ],
   "source": [
    "result = graph.invoke({\"messages\": [HumanMessage(content=\"Write simple poem about cats\")]})\n",
    "\n",
    "result\n"
   ]
  },
  {
   "cell_type": "code",
   "execution_count": null,
   "id": "86c3b50b",
   "metadata": {},
   "outputs": [],
   "source": []
  }
 ],
 "metadata": {
  "kernelspec": {
   "display_name": "Python 3",
   "language": "python",
   "name": "python3"
  },
  "language_info": {
   "codemirror_mode": {
    "name": "ipython",
    "version": 3
   },
   "file_extension": ".py",
   "mimetype": "text/x-python",
   "name": "python",
   "nbconvert_exporter": "python",
   "pygments_lexer": "ipython3",
   "version": "3.12.11"
  }
 },
 "nbformat": 4,
 "nbformat_minor": 5
}
